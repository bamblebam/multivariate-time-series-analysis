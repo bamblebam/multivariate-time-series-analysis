{
 "metadata": {
  "language_info": {
   "codemirror_mode": {
    "name": "ipython",
    "version": 3
   },
   "file_extension": ".py",
   "mimetype": "text/x-python",
   "name": "python",
   "nbconvert_exporter": "python",
   "pygments_lexer": "ipython3",
   "version": "3.8.8"
  },
  "orig_nbformat": 4,
  "kernelspec": {
   "name": "python3",
   "display_name": "Python 3.8.8 64-bit ('tf': conda)"
  },
  "interpreter": {
   "hash": "8f7a9caefe3fbe01c4aa0205e6cc1c36763ed3d41b234746df90d0099aaa4109"
  }
 },
 "nbformat": 4,
 "nbformat_minor": 2,
 "cells": [
  {
   "cell_type": "code",
   "execution_count": 1,
   "metadata": {},
   "outputs": [
    {
     "output_type": "stream",
     "name": "stderr",
     "text": [
      "Global seed set to 42\n"
     ]
    },
    {
     "output_type": "display_data",
     "data": {
      "text/plain": "<Figure size 720x80 with 1 Axes>",
      "image/svg+xml": "<?xml version=\"1.0\" encoding=\"utf-8\" standalone=\"no\"?>\r\n<!DOCTYPE svg PUBLIC \"-//W3C//DTD SVG 1.1//EN\"\r\n  \"http://www.w3.org/Graphics/SVG/1.1/DTD/svg11.dtd\">\r\n<svg height=\"72.26pt\" version=\"1.1\" viewBox=\"0 0 520.1 72.26\" width=\"520.1pt\" xmlns=\"http://www.w3.org/2000/svg\" xmlns:xlink=\"http://www.w3.org/1999/xlink\">\r\n <metadata>\r\n  <rdf:RDF xmlns:cc=\"http://creativecommons.org/ns#\" xmlns:dc=\"http://purl.org/dc/elements/1.1/\" xmlns:rdf=\"http://www.w3.org/1999/02/22-rdf-syntax-ns#\">\r\n   <cc:Work>\r\n    <dc:type rdf:resource=\"http://purl.org/dc/dcmitype/StillImage\"/>\r\n    <dc:date>2021-06-16T02:29:29.471072</dc:date>\r\n    <dc:format>image/svg+xml</dc:format>\r\n    <dc:creator>\r\n     <cc:Agent>\r\n      <dc:title>Matplotlib v3.4.2, https://matplotlib.org/</dc:title>\r\n     </cc:Agent>\r\n    </dc:creator>\r\n   </cc:Work>\r\n  </rdf:RDF>\r\n </metadata>\r\n <defs>\r\n  <style type=\"text/css\">*{stroke-linecap:butt;stroke-linejoin:round;}</style>\r\n </defs>\r\n <g id=\"figure_1\">\r\n  <g id=\"patch_1\">\r\n   <path d=\"M 0 72.26 \r\nL 520.1 72.26 \r\nL 520.1 0 \r\nL 0 0 \r\nz\r\n\" style=\"fill:#2c2c2e;\"/>\r\n  </g>\r\n  <g id=\"axes_1\">\r\n   <g id=\"patch_2\">\r\n    <path d=\"M 10.7 61.56 \r\nL 512.9 61.56 \r\nL 512.9 7.2 \r\nL 10.7 7.2 \r\nz\r\n\" style=\"fill:#2c2c2e;\"/>\r\n   </g>\r\n   <g clip-path=\"url(#pd9d3cb64cb)\">\r\n    <image height=\"54.9\" id=\"image95bf59e1ae\" transform=\"scale(1 -1)translate(0 -54.9)\" width=\"503.1\" x=\"10.7\" xlink:href=\"data:image/png;base64,\r\niVBORw0KGgoAAAANSUhEUgAAAi8AAAA9CAYAAABlVYn9AAABcklEQVR4nO3WoVUCABiFUeCQMJOcAgdhCzew2N2CIGxBZAMHoDEDZpzB9J/vcO8Er71vufl6PBZP6Pf1ZXrCiN3bfnrCiJ+P2/SEEZfteXrCmO/VfXrCiNP1c3rCiPfDcXrCiMP6Ob9sNT0AAOA/xAsAkCJeAIAU8QIApIgXACBFvAAAKeIFAEgRLwBAingBAFLECwCQIl4AgBTxAgCkiBcAIEW8AAAp4gUASBEvAECKeAEAUsQLAJAiXgCAFPECAKSIFwAgRbwAACniBQBIES8AQIp4AQBSxAsAkCJeAIAU8QIApIgXACBFvAAAKeIFAEgRLwBAingBAFLECwCQIl4AgBTxAgCkiBcAIEW8AAAp4gUASBEvAECKeAEAUsQLAJAiXgCAFPECAKSIFwAgRbwAACniBQBIES8AQIp4AQBSxAsAkCJeAIAU8QIApIgXACBFvAAAKeIFAEgRLwBAingBAFLECwCQIl4AgBTxAgCk/AFwbw5YLg9/iwAAAABJRU5ErkJggg==\" y=\"-6.66\"/>\r\n   </g>\r\n   <g id=\"matplotlib.axis_1\">\r\n    <g id=\"xtick_1\">\r\n     <g id=\"line2d_1\">\r\n      <defs>\r\n       <path d=\"M 0 0 \r\nL 0 3.5 \r\n\" id=\"me29ae02f27\" style=\"stroke:#e5e5ea;stroke-width:0.8;\"/>\r\n      </defs>\r\n      <g>\r\n       <use style=\"fill:#e5e5ea;stroke:#e5e5ea;stroke-width:0.8;\" x=\"10.7\" xlink:href=\"#me29ae02f27\" y=\"61.56\"/>\r\n      </g>\r\n     </g>\r\n    </g>\r\n    <g id=\"xtick_2\">\r\n     <g id=\"line2d_2\">\r\n      <g>\r\n       <use style=\"fill:#e5e5ea;stroke:#e5e5ea;stroke-width:0.8;\" x=\"66.5\" xlink:href=\"#me29ae02f27\" y=\"61.56\"/>\r\n      </g>\r\n     </g>\r\n    </g>\r\n    <g id=\"xtick_3\">\r\n     <g id=\"line2d_3\">\r\n      <g>\r\n       <use style=\"fill:#e5e5ea;stroke:#e5e5ea;stroke-width:0.8;\" x=\"122.3\" xlink:href=\"#me29ae02f27\" y=\"61.56\"/>\r\n      </g>\r\n     </g>\r\n    </g>\r\n    <g id=\"xtick_4\">\r\n     <g id=\"line2d_4\">\r\n      <g>\r\n       <use style=\"fill:#e5e5ea;stroke:#e5e5ea;stroke-width:0.8;\" x=\"178.1\" xlink:href=\"#me29ae02f27\" y=\"61.56\"/>\r\n      </g>\r\n     </g>\r\n    </g>\r\n    <g id=\"xtick_5\">\r\n     <g id=\"line2d_5\">\r\n      <g>\r\n       <use style=\"fill:#e5e5ea;stroke:#e5e5ea;stroke-width:0.8;\" x=\"233.9\" xlink:href=\"#me29ae02f27\" y=\"61.56\"/>\r\n      </g>\r\n     </g>\r\n    </g>\r\n    <g id=\"xtick_6\">\r\n     <g id=\"line2d_6\">\r\n      <g>\r\n       <use style=\"fill:#e5e5ea;stroke:#e5e5ea;stroke-width:0.8;\" x=\"289.7\" xlink:href=\"#me29ae02f27\" y=\"61.56\"/>\r\n      </g>\r\n     </g>\r\n    </g>\r\n    <g id=\"xtick_7\">\r\n     <g id=\"line2d_7\">\r\n      <g>\r\n       <use style=\"fill:#e5e5ea;stroke:#e5e5ea;stroke-width:0.8;\" x=\"345.5\" xlink:href=\"#me29ae02f27\" y=\"61.56\"/>\r\n      </g>\r\n     </g>\r\n    </g>\r\n    <g id=\"xtick_8\">\r\n     <g id=\"line2d_8\">\r\n      <g>\r\n       <use style=\"fill:#e5e5ea;stroke:#e5e5ea;stroke-width:0.8;\" x=\"401.3\" xlink:href=\"#me29ae02f27\" y=\"61.56\"/>\r\n      </g>\r\n     </g>\r\n    </g>\r\n    <g id=\"xtick_9\">\r\n     <g id=\"line2d_9\">\r\n      <g>\r\n       <use style=\"fill:#e5e5ea;stroke:#e5e5ea;stroke-width:0.8;\" x=\"457.1\" xlink:href=\"#me29ae02f27\" y=\"61.56\"/>\r\n      </g>\r\n     </g>\r\n    </g>\r\n   </g>\r\n   <g id=\"matplotlib.axis_2\"/>\r\n   <g id=\"patch_3\">\r\n    <path d=\"M 10.7 61.56 \r\nL 10.7 7.2 \r\n\" style=\"fill:none;stroke:#2c2c2e;stroke-linecap:square;stroke-linejoin:miter;stroke-width:0.8;\"/>\r\n   </g>\r\n   <g id=\"patch_4\">\r\n    <path d=\"M 10.7 61.56 \r\nL 512.9 61.56 \r\n\" style=\"fill:none;stroke:#2c2c2e;stroke-linecap:square;stroke-linejoin:miter;stroke-width:0.8;\"/>\r\n   </g>\r\n  </g>\r\n </g>\r\n <defs>\r\n  <clipPath id=\"pd9d3cb64cb\">\r\n   <rect height=\"54.36\" width=\"502.2\" x=\"10.7\" y=\"7.2\"/>\r\n  </clipPath>\r\n </defs>\r\n</svg>\r\n",
      "image/png": "[encoded data removed]"
     },
     "metadata": {}
    }
   ],
   "source": [
    "import time\n",
    "import logging\n",
    "import os\n",
    "import glob\n",
    "import json\n",
    "import re\n",
    "import random\n",
    "import textwrap\n",
    "from termcolor import colored\n",
    "from pathlib import Path\n",
    "import joblib\n",
    "import pickle\n",
    "\n",
    "import pandas as pd\n",
    "import numpy as np\n",
    "import matplotlib as mpl\n",
    "import matplotlib.pyplot as plt\n",
    "import seaborn as sns\n",
    "from cycler import cycler\n",
    "import plotly.graph_objects as go\n",
    "import plotly.express as px\n",
    "from tqdm.notebook import tqdm\n",
    "\n",
    "from sklearn.model_selection import train_test_split\n",
    "from sklearn.preprocessing import MinMaxScaler\n",
    "\n",
    "import tensorflow as tf\n",
    "\n",
    "import torch\n",
    "import torch.nn as nn\n",
    "import torch.nn.functional as F\n",
    "from torch.utils.data import Dataset,DataLoader\n",
    "import pytorch_lightning as pl\n",
    "\n",
    "tqdm.pandas()\n",
    "\n",
    "pl.seed_everything(42)\n",
    "\n",
    "%matplotlib inline\n",
    "\n",
    "raw_dark_palette = [\n",
    "    (10, 132, 255), # Blue\n",
    "    (255, 159, 10), # Orange\n",
    "    (48, 209, 88),  # Green\n",
    "    (255, 69, 58),  # Red\n",
    "    (191, 90, 242), # Purple\n",
    "    (94, 92, 230),  # Indigo\n",
    "    (255, 55, 95),  # Pink\n",
    "    (100, 210, 255),# Teal\n",
    "    (255, 214, 10)  # Yellow\n",
    "]\n",
    "raw_darks=[\n",
    "    (44, 44, 46)\n",
    "]\n",
    "raw_lights=[\n",
    "    (229, 229, 234)\n",
    "]\n",
    "miscellaneous={\n",
    "    'blue':'#0f71d4',\n",
    "    'green':'#14b827',\n",
    "    'red':'#cf0c0c'\n",
    "}\n",
    "\n",
    "dark_palette=np.array(raw_dark_palette)/255\n",
    "darks=np.array(raw_darks)/255\n",
    "lights=np.array(raw_lights)/255\n",
    "\n",
    "#rcparams\n",
    "dark_color=darks[-1]\n",
    "light_color=lights[-1]\n",
    "\n",
    "mpl.rcParams['axes.prop_cycle']=cycler('color',dark_palette)\n",
    "mpl.rcParams['figure.facecolor']=dark_color\n",
    "mpl.rcParams['figure.edgecolor']=dark_color\n",
    "mpl.rcParams['axes.facecolor']=dark_color\n",
    "mpl.rcParams['text.color']=light_color\n",
    "mpl.rcParams['axes.labelcolor']=light_color\n",
    "mpl.rcParams['axes.edgecolor']=dark_color\n",
    "mpl.rcParams['xtick.color']=light_color\n",
    "mpl.rcParams['ytick.color']=light_color\n",
    "mpl.rcParams['figure.dpi']=80\n",
    "mpl.rcParams['axes.spines.top'] = False\n",
    "mpl.rcParams['axes.spines.right'] = False\n",
    "\n",
    "sns.palplot(dark_palette)"
   ]
  },
  {
   "cell_type": "code",
   "execution_count": 2,
   "metadata": {},
   "outputs": [
    {
     "output_type": "stream",
     "name": "stderr",
     "text": [
      "Enabling notebook extension jupyter-js-widgets/extension...\n      - Validating: ok\n"
     ]
    }
   ],
   "source": [
    "!jupyter nbextension enable --py --sys-prefix widgetsnbextension"
   ]
  },
  {
   "cell_type": "code",
   "execution_count": 15,
   "metadata": {},
   "outputs": [
    {
     "output_type": "execute_result",
     "data": {
      "text/plain": [
       "            unix                date    symbol     open     high      low  \\\n",
       "0  1567965420000 2019-09-08 17:57:00  BTC/USDT  10000.0  10000.0  10000.0   \n",
       "1  1567965480000 2019-09-08 17:58:00  BTC/USDT  10000.0  10000.0  10000.0   \n",
       "2  1567965540000 2019-09-08 17:59:00  BTC/USDT  10000.0  10000.0  10000.0   \n",
       "3  1567965600000 2019-09-08 18:00:00  BTC/USDT  10000.0  10000.0  10000.0   \n",
       "4  1567965660000 2019-09-08 18:01:00  BTC/USDT  10000.0  10000.0  10000.0   \n",
       "\n",
       "     close  Volume BTC  Volume USDT  tradecount  \n",
       "0  10000.0       0.001         10.0           1  \n",
       "1  10000.0       0.000          0.0           0  \n",
       "2  10000.0       0.001         10.0           1  \n",
       "3  10000.0       0.000          0.0           0  \n",
       "4  10000.0       0.000          0.0           0  "
      ],
      "text/html": "<div>\n<style scoped>\n    .dataframe tbody tr th:only-of-type {\n        vertical-align: middle;\n    }\n\n    .dataframe tbody tr th {\n        vertical-align: top;\n    }\n\n    .dataframe thead th {\n        text-align: right;\n    }\n</style>\n<table border=\"1\" class=\"dataframe\">\n  <thead>\n    <tr style=\"text-align: right;\">\n      <th></th>\n      <th>unix</th>\n      <th>date</th>\n      <th>symbol</th>\n      <th>open</th>\n      <th>high</th>\n      <th>low</th>\n      <th>close</th>\n      <th>Volume BTC</th>\n      <th>Volume USDT</th>\n      <th>tradecount</th>\n    </tr>\n  </thead>\n  <tbody>\n    <tr>\n      <th>0</th>\n      <td>1567965420000</td>\n      <td>2019-09-08 17:57:00</td>\n      <td>BTC/USDT</td>\n      <td>10000.0</td>\n      <td>10000.0</td>\n      <td>10000.0</td>\n      <td>10000.0</td>\n      <td>0.001</td>\n      <td>10.0</td>\n      <td>1</td>\n    </tr>\n    <tr>\n      <th>1</th>\n      <td>1567965480000</td>\n      <td>2019-09-08 17:58:00</td>\n      <td>BTC/USDT</td>\n      <td>10000.0</td>\n      <td>10000.0</td>\n      <td>10000.0</td>\n      <td>10000.0</td>\n      <td>0.000</td>\n      <td>0.0</td>\n      <td>0</td>\n    </tr>\n    <tr>\n      <th>2</th>\n      <td>1567965540000</td>\n      <td>2019-09-08 17:59:00</td>\n      <td>BTC/USDT</td>\n      <td>10000.0</td>\n      <td>10000.0</td>\n      <td>10000.0</td>\n      <td>10000.0</td>\n      <td>0.001</td>\n      <td>10.0</td>\n      <td>1</td>\n    </tr>\n    <tr>\n      <th>3</th>\n      <td>1567965600000</td>\n      <td>2019-09-08 18:00:00</td>\n      <td>BTC/USDT</td>\n      <td>10000.0</td>\n      <td>10000.0</td>\n      <td>10000.0</td>\n      <td>10000.0</td>\n      <td>0.000</td>\n      <td>0.0</td>\n      <td>0</td>\n    </tr>\n    <tr>\n      <th>4</th>\n      <td>1567965660000</td>\n      <td>2019-09-08 18:01:00</td>\n      <td>BTC/USDT</td>\n      <td>10000.0</td>\n      <td>10000.0</td>\n      <td>10000.0</td>\n      <td>10000.0</td>\n      <td>0.000</td>\n      <td>0.0</td>\n      <td>0</td>\n    </tr>\n  </tbody>\n</table>\n</div>"
     },
     "metadata": {},
     "execution_count": 15
    }
   ],
   "source": [
    "data_dir='data/Binance_BTCUSDT_minute.csv'\n",
    "df=pd.read_csv(data_dir,parse_dates=['date'],header=1)\n",
    "df=df.sort_values(by='date').reset_index(drop=True)\n",
    "df.head()"
   ]
  },
  {
   "cell_type": "code",
   "execution_count": 17,
   "metadata": {},
   "outputs": [
    {
     "output_type": "execute_result",
     "data": {
      "text/plain": [
       "(924212, 10)"
      ]
     },
     "metadata": {},
     "execution_count": 17
    }
   ],
   "source": [
    "df.shape"
   ]
  },
  {
   "source": [
    "# Preprocessing"
   ],
   "cell_type": "markdown",
   "metadata": {}
  },
  {
   "cell_type": "code",
   "execution_count": 18,
   "metadata": {},
   "outputs": [
    {
     "output_type": "execute_result",
     "data": {
      "text/plain": [
       "            unix                date    symbol     open     high      low  \\\n",
       "0  1567965420000 2019-09-08 17:57:00  BTC/USDT  10000.0  10000.0  10000.0   \n",
       "1  1567965480000 2019-09-08 17:58:00  BTC/USDT  10000.0  10000.0  10000.0   \n",
       "2  1567965540000 2019-09-08 17:59:00  BTC/USDT  10000.0  10000.0  10000.0   \n",
       "3  1567965600000 2019-09-08 18:00:00  BTC/USDT  10000.0  10000.0  10000.0   \n",
       "4  1567965660000 2019-09-08 18:01:00  BTC/USDT  10000.0  10000.0  10000.0   \n",
       "\n",
       "     close  Volume BTC  Volume USDT  tradecount  prev_close  \n",
       "0  10000.0       0.001         10.0           1         NaN  \n",
       "1  10000.0       0.000          0.0           0     10000.0  \n",
       "2  10000.0       0.001         10.0           1     10000.0  \n",
       "3  10000.0       0.000          0.0           0     10000.0  \n",
       "4  10000.0       0.000          0.0           0     10000.0  "
      ],
      "text/html": "<div>\n<style scoped>\n    .dataframe tbody tr th:only-of-type {\n        vertical-align: middle;\n    }\n\n    .dataframe tbody tr th {\n        vertical-align: top;\n    }\n\n    .dataframe thead th {\n        text-align: right;\n    }\n</style>\n<table border=\"1\" class=\"dataframe\">\n  <thead>\n    <tr style=\"text-align: right;\">\n      <th></th>\n      <th>unix</th>\n      <th>date</th>\n      <th>symbol</th>\n      <th>open</th>\n      <th>high</th>\n      <th>low</th>\n      <th>close</th>\n      <th>Volume BTC</th>\n      <th>Volume USDT</th>\n      <th>tradecount</th>\n      <th>prev_close</th>\n    </tr>\n  </thead>\n  <tbody>\n    <tr>\n      <th>0</th>\n      <td>1567965420000</td>\n      <td>2019-09-08 17:57:00</td>\n      <td>BTC/USDT</td>\n      <td>10000.0</td>\n      <td>10000.0</td>\n      <td>10000.0</td>\n      <td>10000.0</td>\n      <td>0.001</td>\n      <td>10.0</td>\n      <td>1</td>\n      <td>NaN</td>\n    </tr>\n    <tr>\n      <th>1</th>\n      <td>1567965480000</td>\n      <td>2019-09-08 17:58:00</td>\n      <td>BTC/USDT</td>\n      <td>10000.0</td>\n      <td>10000.0</td>\n      <td>10000.0</td>\n      <td>10000.0</td>\n      <td>0.000</td>\n      <td>0.0</td>\n      <td>0</td>\n      <td>10000.0</td>\n    </tr>\n    <tr>\n      <th>2</th>\n      <td>1567965540000</td>\n      <td>2019-09-08 17:59:00</td>\n      <td>BTC/USDT</td>\n      <td>10000.0</td>\n      <td>10000.0</td>\n      <td>10000.0</td>\n      <td>10000.0</td>\n      <td>0.001</td>\n      <td>10.0</td>\n      <td>1</td>\n      <td>10000.0</td>\n    </tr>\n    <tr>\n      <th>3</th>\n      <td>1567965600000</td>\n      <td>2019-09-08 18:00:00</td>\n      <td>BTC/USDT</td>\n      <td>10000.0</td>\n      <td>10000.0</td>\n      <td>10000.0</td>\n      <td>10000.0</td>\n      <td>0.000</td>\n      <td>0.0</td>\n      <td>0</td>\n      <td>10000.0</td>\n    </tr>\n    <tr>\n      <th>4</th>\n      <td>1567965660000</td>\n      <td>2019-09-08 18:01:00</td>\n      <td>BTC/USDT</td>\n      <td>10000.0</td>\n      <td>10000.0</td>\n      <td>10000.0</td>\n      <td>10000.0</td>\n      <td>0.000</td>\n      <td>0.0</td>\n      <td>0</td>\n      <td>10000.0</td>\n    </tr>\n  </tbody>\n</table>\n</div>"
     },
     "metadata": {},
     "execution_count": 18
    }
   ],
   "source": [
    "df[\"prev_close\"]=df.shift(1)['close']\n",
    "df.head()"
   ]
  },
  {
   "cell_type": "code",
   "execution_count": 21,
   "metadata": {},
   "outputs": [
    {
     "output_type": "display_data",
     "data": {
      "text/plain": "HBox(children=(FloatProgress(value=0.0, max=924212.0), HTML(value='')))",
      "application/vnd.jupyter.widget-view+json": {
       "version_major": 2,
       "version_minor": 0,
       "model_id": "c59997402f674a68922bd7d7941ab824"
      }
     },
     "metadata": {}
    },
    {
     "output_type": "stream",
     "name": "stdout",
     "text": [
      "\n"
     ]
    },
    {
     "output_type": "execute_result",
     "data": {
      "text/plain": [
       "            unix                date    symbol     open     high      low  \\\n",
       "0  1567965420000 2019-09-08 17:57:00  BTC/USDT  10000.0  10000.0  10000.0   \n",
       "1  1567965480000 2019-09-08 17:58:00  BTC/USDT  10000.0  10000.0  10000.0   \n",
       "2  1567965540000 2019-09-08 17:59:00  BTC/USDT  10000.0  10000.0  10000.0   \n",
       "3  1567965600000 2019-09-08 18:00:00  BTC/USDT  10000.0  10000.0  10000.0   \n",
       "4  1567965660000 2019-09-08 18:01:00  BTC/USDT  10000.0  10000.0  10000.0   \n",
       "\n",
       "     close  Volume BTC  Volume USDT  tradecount  prev_close  close_changed  \n",
       "0  10000.0       0.001         10.0           1         NaN            0.0  \n",
       "1  10000.0       0.000          0.0           0     10000.0            0.0  \n",
       "2  10000.0       0.001         10.0           1     10000.0            0.0  \n",
       "3  10000.0       0.000          0.0           0     10000.0            0.0  \n",
       "4  10000.0       0.000          0.0           0     10000.0            0.0  "
      ],
      "text/html": "<div>\n<style scoped>\n    .dataframe tbody tr th:only-of-type {\n        vertical-align: middle;\n    }\n\n    .dataframe tbody tr th {\n        vertical-align: top;\n    }\n\n    .dataframe thead th {\n        text-align: right;\n    }\n</style>\n<table border=\"1\" class=\"dataframe\">\n  <thead>\n    <tr style=\"text-align: right;\">\n      <th></th>\n      <th>unix</th>\n      <th>date</th>\n      <th>symbol</th>\n      <th>open</th>\n      <th>high</th>\n      <th>low</th>\n      <th>close</th>\n      <th>Volume BTC</th>\n      <th>Volume USDT</th>\n      <th>tradecount</th>\n      <th>prev_close</th>\n      <th>close_changed</th>\n    </tr>\n  </thead>\n  <tbody>\n    <tr>\n      <th>0</th>\n      <td>1567965420000</td>\n      <td>2019-09-08 17:57:00</td>\n      <td>BTC/USDT</td>\n      <td>10000.0</td>\n      <td>10000.0</td>\n      <td>10000.0</td>\n      <td>10000.0</td>\n      <td>0.001</td>\n      <td>10.0</td>\n      <td>1</td>\n      <td>NaN</td>\n      <td>0.0</td>\n    </tr>\n    <tr>\n      <th>1</th>\n      <td>1567965480000</td>\n      <td>2019-09-08 17:58:00</td>\n      <td>BTC/USDT</td>\n      <td>10000.0</td>\n      <td>10000.0</td>\n      <td>10000.0</td>\n      <td>10000.0</td>\n      <td>0.000</td>\n      <td>0.0</td>\n      <td>0</td>\n      <td>10000.0</td>\n      <td>0.0</td>\n    </tr>\n    <tr>\n      <th>2</th>\n      <td>1567965540000</td>\n      <td>2019-09-08 17:59:00</td>\n      <td>BTC/USDT</td>\n      <td>10000.0</td>\n      <td>10000.0</td>\n      <td>10000.0</td>\n      <td>10000.0</td>\n      <td>0.001</td>\n      <td>10.0</td>\n      <td>1</td>\n      <td>10000.0</td>\n      <td>0.0</td>\n    </tr>\n    <tr>\n      <th>3</th>\n      <td>1567965600000</td>\n      <td>2019-09-08 18:00:00</td>\n      <td>BTC/USDT</td>\n      <td>10000.0</td>\n      <td>10000.0</td>\n      <td>10000.0</td>\n      <td>10000.0</td>\n      <td>0.000</td>\n      <td>0.0</td>\n      <td>0</td>\n      <td>10000.0</td>\n      <td>0.0</td>\n    </tr>\n    <tr>\n      <th>4</th>\n      <td>1567965660000</td>\n      <td>2019-09-08 18:01:00</td>\n      <td>BTC/USDT</td>\n      <td>10000.0</td>\n      <td>10000.0</td>\n      <td>10000.0</td>\n      <td>10000.0</td>\n      <td>0.000</td>\n      <td>0.0</td>\n      <td>0</td>\n      <td>10000.0</td>\n      <td>0.0</td>\n    </tr>\n  </tbody>\n</table>\n</div>"
     },
     "metadata": {},
     "execution_count": 21
    }
   ],
   "source": [
    "df['close_changed']=df.progress_apply(lambda row: 0 if np.isnan(row.prev_close) else row.close-row.prev_close,axis=1)\n",
    "df.head()"
   ]
  },
  {
   "cell_type": "code",
   "execution_count": 23,
   "metadata": {},
   "outputs": [
    {
     "output_type": "execute_result",
     "data": {
      "text/plain": [
       "               unix           open           high            low  \\\n",
       "count  9.242120e+05  924212.000000  924212.000000  924212.000000   \n",
       "mean   1.595707e+12   19635.217125   19650.276044   19620.103511   \n",
       "std    1.603116e+10   16992.796432   17008.824518   16976.845388   \n",
       "min    1.567965e+12    3706.960000    3779.000000    3621.810000   \n",
       "25%    1.581829e+12    8728.685000    8732.660000    8724.730000   \n",
       "50%    1.595692e+12   10276.220000   10280.005000   10272.030000   \n",
       "75%    1.609576e+12   29644.300000   29681.227500   29589.225000   \n",
       "max    1.623719e+12   64800.000000   64854.000000   64685.170000   \n",
       "\n",
       "               close     Volume BTC   Volume USDT     tradecount  \\\n",
       "count  924212.000000  924212.000000  9.242120e+05  924212.000000   \n",
       "mean    19635.258228     108.146967  1.572492e+06     754.922705   \n",
       "std     16992.814043     241.842601  2.699351e+06     988.913337   \n",
       "min      3706.960000       0.000000  0.000000e+00       0.000000   \n",
       "25%      8728.715000      25.653368  3.468851e+05     166.000000   \n",
       "50%     10276.240000      50.510307  8.527767e+05     454.000000   \n",
       "75%     29644.307500     108.048279  1.819462e+06    1020.000000   \n",
       "max     64800.000000   14204.567000  1.609358e+08   31712.000000   \n",
       "\n",
       "          prev_close  close_changed  \n",
       "count  924211.000000  924212.000000  \n",
       "mean    19635.235910       0.032743  \n",
       "std     16992.809691      36.372013  \n",
       "min      3706.960000   -4745.730000  \n",
       "25%      8728.710000      -4.920000  \n",
       "50%     10276.230000       0.000000  \n",
       "75%     29642.615000       4.920000  \n",
       "max     64800.000000    1548.890000  "
      ],
      "text/html": "<div>\n<style scoped>\n    .dataframe tbody tr th:only-of-type {\n        vertical-align: middle;\n    }\n\n    .dataframe tbody tr th {\n        vertical-align: top;\n    }\n\n    .dataframe thead th {\n        text-align: right;\n    }\n</style>\n<table border=\"1\" class=\"dataframe\">\n  <thead>\n    <tr style=\"text-align: right;\">\n      <th></th>\n      <th>unix</th>\n      <th>open</th>\n      <th>high</th>\n      <th>low</th>\n      <th>close</th>\n      <th>Volume BTC</th>\n      <th>Volume USDT</th>\n      <th>tradecount</th>\n      <th>prev_close</th>\n      <th>close_changed</th>\n    </tr>\n  </thead>\n  <tbody>\n    <tr>\n      <th>count</th>\n      <td>9.242120e+05</td>\n      <td>924212.000000</td>\n      <td>924212.000000</td>\n      <td>924212.000000</td>\n      <td>924212.000000</td>\n      <td>924212.000000</td>\n      <td>9.242120e+05</td>\n      <td>924212.000000</td>\n      <td>924211.000000</td>\n      <td>924212.000000</td>\n    </tr>\n    <tr>\n      <th>mean</th>\n      <td>1.595707e+12</td>\n      <td>19635.217125</td>\n      <td>19650.276044</td>\n      <td>19620.103511</td>\n      <td>19635.258228</td>\n      <td>108.146967</td>\n      <td>1.572492e+06</td>\n      <td>754.922705</td>\n      <td>19635.235910</td>\n      <td>0.032743</td>\n    </tr>\n    <tr>\n      <th>std</th>\n      <td>1.603116e+10</td>\n      <td>16992.796432</td>\n      <td>17008.824518</td>\n      <td>16976.845388</td>\n      <td>16992.814043</td>\n      <td>241.842601</td>\n      <td>2.699351e+06</td>\n      <td>988.913337</td>\n      <td>16992.809691</td>\n      <td>36.372013</td>\n    </tr>\n    <tr>\n      <th>min</th>\n      <td>1.567965e+12</td>\n      <td>3706.960000</td>\n      <td>3779.000000</td>\n      <td>3621.810000</td>\n      <td>3706.960000</td>\n      <td>0.000000</td>\n      <td>0.000000e+00</td>\n      <td>0.000000</td>\n      <td>3706.960000</td>\n      <td>-4745.730000</td>\n    </tr>\n    <tr>\n      <th>25%</th>\n      <td>1.581829e+12</td>\n      <td>8728.685000</td>\n      <td>8732.660000</td>\n      <td>8724.730000</td>\n      <td>8728.715000</td>\n      <td>25.653368</td>\n      <td>3.468851e+05</td>\n      <td>166.000000</td>\n      <td>8728.710000</td>\n      <td>-4.920000</td>\n    </tr>\n    <tr>\n      <th>50%</th>\n      <td>1.595692e+12</td>\n      <td>10276.220000</td>\n      <td>10280.005000</td>\n      <td>10272.030000</td>\n      <td>10276.240000</td>\n      <td>50.510307</td>\n      <td>8.527767e+05</td>\n      <td>454.000000</td>\n      <td>10276.230000</td>\n      <td>0.000000</td>\n    </tr>\n    <tr>\n      <th>75%</th>\n      <td>1.609576e+12</td>\n      <td>29644.300000</td>\n      <td>29681.227500</td>\n      <td>29589.225000</td>\n      <td>29644.307500</td>\n      <td>108.048279</td>\n      <td>1.819462e+06</td>\n      <td>1020.000000</td>\n      <td>29642.615000</td>\n      <td>4.920000</td>\n    </tr>\n    <tr>\n      <th>max</th>\n      <td>1.623719e+12</td>\n      <td>64800.000000</td>\n      <td>64854.000000</td>\n      <td>64685.170000</td>\n      <td>64800.000000</td>\n      <td>14204.567000</td>\n      <td>1.609358e+08</td>\n      <td>31712.000000</td>\n      <td>64800.000000</td>\n      <td>1548.890000</td>\n    </tr>\n  </tbody>\n</table>\n</div>"
     },
     "metadata": {},
     "execution_count": 23
    }
   ],
   "source": [
    "df.describe()"
   ]
  },
  {
   "cell_type": "code",
   "execution_count": 25,
   "metadata": {},
   "outputs": [
    {
     "output_type": "display_data",
     "data": {
      "text/plain": "HBox(children=(FloatProgress(value=0.0, max=924212.0), HTML(value='')))",
      "application/vnd.jupyter.widget-view+json": {
       "version_major": 2,
       "version_minor": 0,
       "model_id": "ae36b2d83df74c6ab6486f80304bb0df"
      }
     },
     "metadata": {}
    },
    {
     "output_type": "stream",
     "name": "stdout",
     "text": [
      "\n"
     ]
    }
   ],
   "source": [
    "rows=list()\n",
    "for idx,row in tqdm(df.iterrows(),total=df.shape[0]):\n",
    "    data=dict(\n",
    "        day_of_week=row.date.dayofweek,\n",
    "        day_of_month=row.date.day,\n",
    "        week_of_year=row.date.week,\n",
    "        month=row.date.month,\n",
    "        open=row.open,\n",
    "        high=row.high,\n",
    "        low=row.low,\n",
    "        close_chane=row.close_changed,\n",
    "        close=row.close\n",
    "    )\n",
    "    rows.append(data)\n",
    "df2=pd.DataFrame(rows)"
   ]
  },
  {
   "cell_type": "code",
   "execution_count": 36,
   "metadata": {},
   "outputs": [],
   "source": [
    "df2.rename(columns={'close_chane':'close_change'},inplace=True)"
   ]
  },
  {
   "cell_type": "code",
   "execution_count": 37,
   "metadata": {},
   "outputs": [
    {
     "output_type": "execute_result",
     "data": {
      "text/plain": [
       "   day_of_week  day_of_month  week_of_year  month     open     high      low  \\\n",
       "0            6             8            36      9  10000.0  10000.0  10000.0   \n",
       "1            6             8            36      9  10000.0  10000.0  10000.0   \n",
       "2            6             8            36      9  10000.0  10000.0  10000.0   \n",
       "3            6             8            36      9  10000.0  10000.0  10000.0   \n",
       "4            6             8            36      9  10000.0  10000.0  10000.0   \n",
       "\n",
       "   close_change    close  \n",
       "0           0.0  10000.0  \n",
       "1           0.0  10000.0  \n",
       "2           0.0  10000.0  \n",
       "3           0.0  10000.0  \n",
       "4           0.0  10000.0  "
      ],
      "text/html": "<div>\n<style scoped>\n    .dataframe tbody tr th:only-of-type {\n        vertical-align: middle;\n    }\n\n    .dataframe tbody tr th {\n        vertical-align: top;\n    }\n\n    .dataframe thead th {\n        text-align: right;\n    }\n</style>\n<table border=\"1\" class=\"dataframe\">\n  <thead>\n    <tr style=\"text-align: right;\">\n      <th></th>\n      <th>day_of_week</th>\n      <th>day_of_month</th>\n      <th>week_of_year</th>\n      <th>month</th>\n      <th>open</th>\n      <th>high</th>\n      <th>low</th>\n      <th>close_change</th>\n      <th>close</th>\n    </tr>\n  </thead>\n  <tbody>\n    <tr>\n      <th>0</th>\n      <td>6</td>\n      <td>8</td>\n      <td>36</td>\n      <td>9</td>\n      <td>10000.0</td>\n      <td>10000.0</td>\n      <td>10000.0</td>\n      <td>0.0</td>\n      <td>10000.0</td>\n    </tr>\n    <tr>\n      <th>1</th>\n      <td>6</td>\n      <td>8</td>\n      <td>36</td>\n      <td>9</td>\n      <td>10000.0</td>\n      <td>10000.0</td>\n      <td>10000.0</td>\n      <td>0.0</td>\n      <td>10000.0</td>\n    </tr>\n    <tr>\n      <th>2</th>\n      <td>6</td>\n      <td>8</td>\n      <td>36</td>\n      <td>9</td>\n      <td>10000.0</td>\n      <td>10000.0</td>\n      <td>10000.0</td>\n      <td>0.0</td>\n      <td>10000.0</td>\n    </tr>\n    <tr>\n      <th>3</th>\n      <td>6</td>\n      <td>8</td>\n      <td>36</td>\n      <td>9</td>\n      <td>10000.0</td>\n      <td>10000.0</td>\n      <td>10000.0</td>\n      <td>0.0</td>\n      <td>10000.0</td>\n    </tr>\n    <tr>\n      <th>4</th>\n      <td>6</td>\n      <td>8</td>\n      <td>36</td>\n      <td>9</td>\n      <td>10000.0</td>\n      <td>10000.0</td>\n      <td>10000.0</td>\n      <td>0.0</td>\n      <td>10000.0</td>\n    </tr>\n  </tbody>\n</table>\n</div>"
     },
     "metadata": {},
     "execution_count": 37
    }
   ],
   "source": [
    "df2.head()"
   ]
  },
  {
   "cell_type": "code",
   "execution_count": 3,
   "metadata": {},
   "outputs": [
    {
     "output_type": "error",
     "ename": "NameError",
     "evalue": "name 'df2' is not defined",
     "traceback": [
      "\u001b[1;31m---------------------------------------------------------------------------\u001b[0m",
      "\u001b[1;31mNameError\u001b[0m                                 Traceback (most recent call last)",
      "\u001b[1;32m<ipython-input-3-cb51ef3b7767>\u001b[0m in \u001b[0;36m<module>\u001b[1;34m\u001b[0m\n\u001b[1;32m----> 1\u001b[1;33m \u001b[0mdf2\u001b[0m\u001b[1;33m.\u001b[0m\u001b[0mto_csv\u001b[0m\u001b[1;33m(\u001b[0m\u001b[1;34m'dataset/feature_df.csv'\u001b[0m\u001b[1;33m)\u001b[0m\u001b[1;33m\u001b[0m\u001b[1;33m\u001b[0m\u001b[0m\n\u001b[0m",
      "\u001b[1;31mNameError\u001b[0m: name 'df2' is not defined"
     ]
    }
   ],
   "source": [
    "df2.to_csv('dataset/feature_df.csv')"
   ]
  },
  {
   "cell_type": "code",
   "execution_count": 4,
   "metadata": {},
   "outputs": [],
   "source": [
    "df2=pd.read_csv('dataset/feature_df.csv')\n",
    "df2.drop(['Unnamed: 0'],axis=1,inplace=True)"
   ]
  },
  {
   "cell_type": "code",
   "execution_count": 5,
   "metadata": {},
   "outputs": [],
   "source": [
    "train_df,test_df=train_test_split(df2,test_size=0.1,shuffle=False)"
   ]
  },
  {
   "cell_type": "code",
   "execution_count": 6,
   "metadata": {},
   "outputs": [],
   "source": [
    "scaler=MinMaxScaler(feature_range=(-1,1))\n",
    "scaler.fit(train_df)\n",
    "train_df=pd.DataFrame(scaler.transform(train_df),index=train_df.index,columns=train_df.columns)\n",
    "test_df=pd.DataFrame(scaler.transform(test_df),index=test_df.index,columns=test_df.columns)"
   ]
  },
  {
   "cell_type": "code",
   "execution_count": 13,
   "metadata": {},
   "outputs": [
    {
     "output_type": "execute_result",
     "data": {
      "text/plain": [
       "   day_of_week  day_of_month  week_of_year     month      open      high  \\\n",
       "0          1.0     -0.533333      0.346154  0.454545 -0.783346 -0.785723   \n",
       "1          1.0     -0.533333      0.346154  0.454545 -0.783346 -0.785723   \n",
       "2          1.0     -0.533333      0.346154  0.454545 -0.783346 -0.785723   \n",
       "3          1.0     -0.533333      0.346154  0.454545 -0.783346 -0.785723   \n",
       "4          1.0     -0.533333      0.346154  0.454545 -0.783346 -0.785723   \n",
       "\n",
       "        low  close_change     close  \n",
       "0 -0.780519      0.242895 -0.783389  \n",
       "1 -0.780519      0.242895 -0.783389  \n",
       "2 -0.780519      0.242895 -0.783389  \n",
       "3 -0.780519      0.242895 -0.783389  \n",
       "4 -0.780519      0.242895 -0.783389  "
      ],
      "text/html": "<div>\n<style scoped>\n    .dataframe tbody tr th:only-of-type {\n        vertical-align: middle;\n    }\n\n    .dataframe tbody tr th {\n        vertical-align: top;\n    }\n\n    .dataframe thead th {\n        text-align: right;\n    }\n</style>\n<table border=\"1\" class=\"dataframe\">\n  <thead>\n    <tr style=\"text-align: right;\">\n      <th></th>\n      <th>day_of_week</th>\n      <th>day_of_month</th>\n      <th>week_of_year</th>\n      <th>month</th>\n      <th>open</th>\n      <th>high</th>\n      <th>low</th>\n      <th>close_change</th>\n      <th>close</th>\n    </tr>\n  </thead>\n  <tbody>\n    <tr>\n      <th>0</th>\n      <td>1.0</td>\n      <td>-0.533333</td>\n      <td>0.346154</td>\n      <td>0.454545</td>\n      <td>-0.783346</td>\n      <td>-0.785723</td>\n      <td>-0.780519</td>\n      <td>0.242895</td>\n      <td>-0.783389</td>\n    </tr>\n    <tr>\n      <th>1</th>\n      <td>1.0</td>\n      <td>-0.533333</td>\n      <td>0.346154</td>\n      <td>0.454545</td>\n      <td>-0.783346</td>\n      <td>-0.785723</td>\n      <td>-0.780519</td>\n      <td>0.242895</td>\n      <td>-0.783389</td>\n    </tr>\n    <tr>\n      <th>2</th>\n      <td>1.0</td>\n      <td>-0.533333</td>\n      <td>0.346154</td>\n      <td>0.454545</td>\n      <td>-0.783346</td>\n      <td>-0.785723</td>\n      <td>-0.780519</td>\n      <td>0.242895</td>\n      <td>-0.783389</td>\n    </tr>\n    <tr>\n      <th>3</th>\n      <td>1.0</td>\n      <td>-0.533333</td>\n      <td>0.346154</td>\n      <td>0.454545</td>\n      <td>-0.783346</td>\n      <td>-0.785723</td>\n      <td>-0.780519</td>\n      <td>0.242895</td>\n      <td>-0.783389</td>\n    </tr>\n    <tr>\n      <th>4</th>\n      <td>1.0</td>\n      <td>-0.533333</td>\n      <td>0.346154</td>\n      <td>0.454545</td>\n      <td>-0.783346</td>\n      <td>-0.785723</td>\n      <td>-0.780519</td>\n      <td>0.242895</td>\n      <td>-0.783389</td>\n    </tr>\n  </tbody>\n</table>\n</div>"
     },
     "metadata": {},
     "execution_count": 13
    }
   ],
   "source": [
    "train_df.head()"
   ]
  },
  {
   "cell_type": "code",
   "execution_count": 7,
   "metadata": {},
   "outputs": [],
   "source": [
    "def create_sequence(data,target,sequence_length):\n",
    "    sequences=list()\n",
    "    data_size=len(data)\n",
    "    for i in tqdm(range(data_size-sequence_length)):\n",
    "        sequence=data[i:i+sequence_length]\n",
    "        label=data.iloc[i+sequence_length][target]\n",
    "        sequences.append((sequence,label))\n",
    "    return sequences"
   ]
  },
  {
   "cell_type": "code",
   "execution_count": 8,
   "metadata": {},
   "outputs": [
    {
     "output_type": "display_data",
     "data": {
      "text/plain": "HBox(children=(FloatProgress(value=0.0, max=831670.0), HTML(value='')))",
      "application/vnd.jupyter.widget-view+json": {
       "version_major": 2,
       "version_minor": 0,
       "model_id": "52c895e340fd47dd9541bf26535e0f8c"
      }
     },
     "metadata": {}
    },
    {
     "output_type": "stream",
     "name": "stdout",
     "text": [
      "\n"
     ]
    },
    {
     "output_type": "display_data",
     "data": {
      "text/plain": "HBox(children=(FloatProgress(value=0.0, max=92302.0), HTML(value='')))",
      "application/vnd.jupyter.widget-view+json": {
       "version_major": 2,
       "version_minor": 0,
       "model_id": "e796e626c3ce43dabcbe34fb40f182db"
      }
     },
     "metadata": {}
    },
    {
     "output_type": "stream",
     "name": "stdout",
     "text": [
      "\n"
     ]
    }
   ],
   "source": [
    "SEQUENCE_LENGTH=120\n",
    "train_sequences=create_sequence(train_df,'close',SEQUENCE_LENGTH)\n",
    "test_sequences=create_sequence(test_df,'close',SEQUENCE_LENGTH)"
   ]
  },
  {
   "source": [
    "# Pytorch Dataset"
   ],
   "cell_type": "markdown",
   "metadata": {}
  },
  {
   "cell_type": "code",
   "execution_count": 9,
   "metadata": {},
   "outputs": [],
   "source": [
    "class BTC_Dataset(Dataset):\n",
    "\n",
    "    def __init__(self,sequences):\n",
    "        self.sequences=sequences\n",
    "\n",
    "    def __len__(self):\n",
    "        return len(self.sequences)\n",
    "\n",
    "    def __getitem__(self,idx):\n",
    "        sequence,label=self.sequences[idx]\n",
    "        return dict(\n",
    "            sequence=torch.Tensor(sequence.to_numpy()),\n",
    "            label=torch.tensor(label).float()\n",
    "        )\n",
    "    "
   ]
  },
  {
   "cell_type": "code",
   "execution_count": 10,
   "metadata": {},
   "outputs": [],
   "source": [
    "class BTC_DataModule(pl.LightningDataModule):\n",
    "\n",
    "    def __init__(self,train_sequences,test_sequences,batch_size=4):\n",
    "        super().__init__()\n",
    "        self.train_sequences=train_sequences\n",
    "        self.test_sequences=test_sequences\n",
    "        self.batch_size=batch_size\n",
    "    \n",
    "    def setup(self):\n",
    "        self.train_df=BTC_Dataset(self.train_sequences)\n",
    "        self.test_df=BTC_Dataset(self.test_sequences)\n",
    "    \n",
    "    def train_dataloader(self):\n",
    "        return DataLoader(self.train_df,batch_size=self.batch_size,shuffle=False)\n",
    "    \n",
    "    def val_dataloader(self):\n",
    "        return DataLoader(self.test_df,batch_size=1,shuffle=False)\n",
    "    \n",
    "    def test_dataloader(self):\n",
    "        return DataLoader(self.test_df,batch_size=1,shuffle=False)\n"
   ]
  },
  {
   "cell_type": "code",
   "execution_count": 11,
   "metadata": {},
   "outputs": [],
   "source": [
    "EPOCHS=5\n",
    "BATCH_SIZE=32\n",
    "\n",
    "data_module=BTC_DataModule(train_sequences,test_sequences,BATCH_SIZE)\n",
    "data_module.setup()"
   ]
  },
  {
   "cell_type": "code",
   "execution_count": 12,
   "metadata": {},
   "outputs": [],
   "source": [
    "class BTCPricePredictionModel(nn.Module):\n",
    "\n",
    "    def __init__(self,n_features,n_hidden=128,n_layers=2):\n",
    "        super().__init__()\n",
    "        self.n_hidden=n_hidden\n",
    "        self.lstm=nn.LSTM(n_features,n_hidden,n_layers,batch_first=True,dropout=0.2)\n",
    "        self.out=nn.Linear(n_hidden,1)\n",
    "    \n",
    "    def forward(self,x):\n",
    "        self.lstm.flatten_parameters()\n",
    "        _,(hidden,_)=self.lstm(x)\n",
    "        out=hidden[-1]\n",
    "        return self.out(out)"
   ]
  },
  {
   "cell_type": "code",
   "execution_count": 13,
   "metadata": {},
   "outputs": [],
   "source": [
    "class BTCModule(pl.LightningModule):\n",
    "\n",
    "    def __init__(self,n_features,n_hidden=128,n_layers=2):\n",
    "        super().__init__()\n",
    "        self.model=BTCPricePredictionModel(n_features,n_hidden,n_layers)\n",
    "        self.criterion=nn.MSELoss()\n",
    "\n",
    "    def forward(self,x,labels=None):\n",
    "        output=self.model(x)\n",
    "        loss=0\n",
    "        if labels is not None:\n",
    "            loss=self.criterion(output,labels.unsqueeze(dim=1))\n",
    "        return loss,output\n",
    "    \n",
    "    def training_step(self,batch,batch_idx):\n",
    "        sequences=batch['sequence']\n",
    "        labels=batch['label']\n",
    "        loss,output=self(sequences,labels)\n",
    "        self.log('train_loss',loss,prog_bar=True,logger=True)\n",
    "        return loss\n",
    "\n",
    "    def validation_step(self,batch,batch_idx):\n",
    "        sequences=batch['sequence']\n",
    "        labels=batch['label']\n",
    "        loss,output=self(sequences,labels)\n",
    "        self.log('val_loss',loss,prog_bar=True,logger=True)\n",
    "        return loss\n",
    "\n",
    "    def test_step(self,batch,batch_idx):\n",
    "        sequences=batch['sequence']\n",
    "        labels=batch['label']\n",
    "        loss,output=self(sequences,labels)\n",
    "        self.log('test_loss',loss,prog_bar=True,logger=True)\n",
    "        return loss\n",
    "\n",
    "    def configure_optimizers(self):\n",
    "        return torch.optim.AdamW(self.parameters(),lr=0.0001)\n",
    "\n",
    "    def configure_callbacks(self):\n",
    "        model_checkpoint=pl.callbacks.ModelCheckpoint('models','model1.ckpt','val_loss')\n",
    "        return [model_checkpoint]"
   ]
  },
  {
   "cell_type": "code",
   "execution_count": 14,
   "metadata": {},
   "outputs": [],
   "source": [
    "model=BTCModule(n_features=train_df.shape[1])"
   ]
  },
  {
   "cell_type": "code",
   "execution_count": 17,
   "metadata": {},
   "outputs": [
    {
     "output_type": "error",
     "ename": "AttributeError",
     "evalue": "'BTCModule' object has no attribute 'metrics'",
     "traceback": [
      "\u001b[1;31m---------------------------------------------------------------------------\u001b[0m",
      "\u001b[1;31mAttributeError\u001b[0m                            Traceback (most recent call last)",
      "\u001b[1;32m<ipython-input-17-1a3cdcd74f50>\u001b[0m in \u001b[0;36m<module>\u001b[1;34m\u001b[0m\n\u001b[1;32m----> 1\u001b[1;33m \u001b[0mprint\u001b[0m\u001b[1;33m(\u001b[0m\u001b[0mmodel\u001b[0m\u001b[1;33m.\u001b[0m\u001b[0mmetrics\u001b[0m\u001b[1;33m)\u001b[0m\u001b[1;33m\u001b[0m\u001b[1;33m\u001b[0m\u001b[0m\n\u001b[0m",
      "\u001b[1;32mF:\\anacondapython\\envs\\tf\\lib\\site-packages\\torch\\nn\\modules\\module.py\u001b[0m in \u001b[0;36m__getattr__\u001b[1;34m(self, name)\u001b[0m\n\u001b[0;32m    945\u001b[0m             \u001b[1;32mif\u001b[0m \u001b[0mname\u001b[0m \u001b[1;32min\u001b[0m \u001b[0mmodules\u001b[0m\u001b[1;33m:\u001b[0m\u001b[1;33m\u001b[0m\u001b[1;33m\u001b[0m\u001b[0m\n\u001b[0;32m    946\u001b[0m                 \u001b[1;32mreturn\u001b[0m \u001b[0mmodules\u001b[0m\u001b[1;33m[\u001b[0m\u001b[0mname\u001b[0m\u001b[1;33m]\u001b[0m\u001b[1;33m\u001b[0m\u001b[1;33m\u001b[0m\u001b[0m\n\u001b[1;32m--> 947\u001b[1;33m         raise AttributeError(\"'{}' object has no attribute '{}'\".format(\n\u001b[0m\u001b[0;32m    948\u001b[0m             type(self).__name__, name))\n\u001b[0;32m    949\u001b[0m \u001b[1;33m\u001b[0m\u001b[0m\n",
      "\u001b[1;31mAttributeError\u001b[0m: 'BTCModule' object has no attribute 'metrics'"
     ]
    }
   ],
   "source": [
    "print(model.metrics)"
   ]
  },
  {
   "cell_type": "code",
   "execution_count": 15,
   "metadata": {},
   "outputs": [
    {
     "output_type": "stream",
     "name": "stderr",
     "text": [
      "GPU available: True, used: True\n",
      "TPU available: False, using: 0 TPU cores\n"
     ]
    }
   ],
   "source": [
    "trainer=pl.Trainer(max_epochs=EPOCHS,gpus=1,progress_bar_refresh_rate=20)"
   ]
  },
  {
   "cell_type": "code",
   "execution_count": 16,
   "metadata": {},
   "outputs": [
    {
     "output_type": "stream",
     "name": "stderr",
     "text": [
      "F:\\anacondapython\\envs\\tf\\lib\\site-packages\\pytorch_lightning\\utilities\\distributed.py:69: UserWarning: you passed in a val_dataloader but have no validation_step. Skipping val loop\n",
      "  warnings.warn(*args, **kwargs)\n",
      "The following callbacks returned in `LightningModule.configure_callbacks` will override existing callbacks passed to Trainer: ModelCheckpoint\n",
      "LOCAL_RANK: 0 - CUDA_VISIBLE_DEVICES: [0]\n",
      "\n",
      "  | Name      | Type                    | Params\n",
      "------------------------------------------------------\n",
      "0 | model     | BTCPricePredictionModel | 203 K \n",
      "1 | criterion | MSELoss                 | 0     \n",
      "------------------------------------------------------\n",
      "203 K     Trainable params\n",
      "0         Non-trainable params\n",
      "203 K     Total params\n",
      "0.814     Total estimated model params size (MB)\n",
      "Epoch 0:   0%|          | 0/25990 [00:00<?, ?it/s] F:\\anacondapython\\envs\\tf\\lib\\site-packages\\pytorch_lightning\\utilities\\distributed.py:69: UserWarning: The dataloader, train dataloader, does not have many workers which may be a bottleneck. Consider increasing the value of the `num_workers` argument` (try 4 which is the number of cpus on this machine) in the `DataLoader` init to improve performance.\n",
      "  warnings.warn(*args, **kwargs)\n",
      "Epoch 0: 100%|██████████| 25990/25990 [05:53<00:00, 73.54it/s, loss=0.000324, v_num=3, train_loss=0.000147]"
     ]
    },
    {
     "output_type": "error",
     "ename": "MisconfigurationException",
     "evalue": "ModelCheckpoint(monitor='val_loss') not found in the returned metrics: ['train_loss']. HINT: Did you call self.log('val_loss', value) in the LightningModule?",
     "traceback": [
      "\u001b[1;31m---------------------------------------------------------------------------\u001b[0m",
      "\u001b[1;31mMisconfigurationException\u001b[0m                 Traceback (most recent call last)",
      "\u001b[1;32m<ipython-input-16-b9cdaa88efa7>\u001b[0m in \u001b[0;36m<module>\u001b[1;34m\u001b[0m\n\u001b[1;32m----> 1\u001b[1;33m \u001b[0mtrainer\u001b[0m\u001b[1;33m.\u001b[0m\u001b[0mfit\u001b[0m\u001b[1;33m(\u001b[0m\u001b[0mmodel\u001b[0m\u001b[1;33m,\u001b[0m\u001b[0mdata_module\u001b[0m\u001b[1;33m)\u001b[0m\u001b[1;33m\u001b[0m\u001b[1;33m\u001b[0m\u001b[0m\n\u001b[0m",
      "\u001b[1;32mF:\\anacondapython\\envs\\tf\\lib\\site-packages\\pytorch_lightning\\trainer\\trainer.py\u001b[0m in \u001b[0;36mfit\u001b[1;34m(self, model, train_dataloader, val_dataloaders, datamodule)\u001b[0m\n\u001b[0;32m    456\u001b[0m         )\n\u001b[0;32m    457\u001b[0m \u001b[1;33m\u001b[0m\u001b[0m\n\u001b[1;32m--> 458\u001b[1;33m         \u001b[0mself\u001b[0m\u001b[1;33m.\u001b[0m\u001b[0m_run\u001b[0m\u001b[1;33m(\u001b[0m\u001b[0mmodel\u001b[0m\u001b[1;33m)\u001b[0m\u001b[1;33m\u001b[0m\u001b[1;33m\u001b[0m\u001b[0m\n\u001b[0m\u001b[0;32m    459\u001b[0m \u001b[1;33m\u001b[0m\u001b[0m\n\u001b[0;32m    460\u001b[0m         \u001b[1;32massert\u001b[0m \u001b[0mself\u001b[0m\u001b[1;33m.\u001b[0m\u001b[0mstate\u001b[0m\u001b[1;33m.\u001b[0m\u001b[0mstopped\u001b[0m\u001b[1;33m\u001b[0m\u001b[1;33m\u001b[0m\u001b[0m\n",
      "\u001b[1;32mF:\\anacondapython\\envs\\tf\\lib\\site-packages\\pytorch_lightning\\trainer\\trainer.py\u001b[0m in \u001b[0;36m_run\u001b[1;34m(self, model)\u001b[0m\n\u001b[0;32m    754\u001b[0m \u001b[1;33m\u001b[0m\u001b[0m\n\u001b[0;32m    755\u001b[0m         \u001b[1;31m# dispatch `start_training` or `start_evaluating` or `start_predicting`\u001b[0m\u001b[1;33m\u001b[0m\u001b[1;33m\u001b[0m\u001b[1;33m\u001b[0m\u001b[0m\n\u001b[1;32m--> 756\u001b[1;33m         \u001b[0mself\u001b[0m\u001b[1;33m.\u001b[0m\u001b[0mdispatch\u001b[0m\u001b[1;33m(\u001b[0m\u001b[1;33m)\u001b[0m\u001b[1;33m\u001b[0m\u001b[1;33m\u001b[0m\u001b[0m\n\u001b[0m\u001b[0;32m    757\u001b[0m \u001b[1;33m\u001b[0m\u001b[0m\n\u001b[0;32m    758\u001b[0m         \u001b[1;31m# plugin will finalized fitting (e.g. ddp_spawn will load trained model)\u001b[0m\u001b[1;33m\u001b[0m\u001b[1;33m\u001b[0m\u001b[1;33m\u001b[0m\u001b[0m\n",
      "\u001b[1;32mF:\\anacondapython\\envs\\tf\\lib\\site-packages\\pytorch_lightning\\trainer\\trainer.py\u001b[0m in \u001b[0;36mdispatch\u001b[1;34m(self)\u001b[0m\n\u001b[0;32m    795\u001b[0m             \u001b[0mself\u001b[0m\u001b[1;33m.\u001b[0m\u001b[0maccelerator\u001b[0m\u001b[1;33m.\u001b[0m\u001b[0mstart_predicting\u001b[0m\u001b[1;33m(\u001b[0m\u001b[0mself\u001b[0m\u001b[1;33m)\u001b[0m\u001b[1;33m\u001b[0m\u001b[1;33m\u001b[0m\u001b[0m\n\u001b[0;32m    796\u001b[0m         \u001b[1;32melse\u001b[0m\u001b[1;33m:\u001b[0m\u001b[1;33m\u001b[0m\u001b[1;33m\u001b[0m\u001b[0m\n\u001b[1;32m--> 797\u001b[1;33m             \u001b[0mself\u001b[0m\u001b[1;33m.\u001b[0m\u001b[0maccelerator\u001b[0m\u001b[1;33m.\u001b[0m\u001b[0mstart_training\u001b[0m\u001b[1;33m(\u001b[0m\u001b[0mself\u001b[0m\u001b[1;33m)\u001b[0m\u001b[1;33m\u001b[0m\u001b[1;33m\u001b[0m\u001b[0m\n\u001b[0m\u001b[0;32m    798\u001b[0m \u001b[1;33m\u001b[0m\u001b[0m\n\u001b[0;32m    799\u001b[0m     \u001b[1;32mdef\u001b[0m \u001b[0mrun_stage\u001b[0m\u001b[1;33m(\u001b[0m\u001b[0mself\u001b[0m\u001b[1;33m)\u001b[0m\u001b[1;33m:\u001b[0m\u001b[1;33m\u001b[0m\u001b[1;33m\u001b[0m\u001b[0m\n",
      "\u001b[1;32mF:\\anacondapython\\envs\\tf\\lib\\site-packages\\pytorch_lightning\\accelerators\\accelerator.py\u001b[0m in \u001b[0;36mstart_training\u001b[1;34m(self, trainer)\u001b[0m\n\u001b[0;32m     94\u001b[0m \u001b[1;33m\u001b[0m\u001b[0m\n\u001b[0;32m     95\u001b[0m     \u001b[1;32mdef\u001b[0m \u001b[0mstart_training\u001b[0m\u001b[1;33m(\u001b[0m\u001b[0mself\u001b[0m\u001b[1;33m,\u001b[0m \u001b[0mtrainer\u001b[0m\u001b[1;33m:\u001b[0m \u001b[1;34m'pl.Trainer'\u001b[0m\u001b[1;33m)\u001b[0m \u001b[1;33m->\u001b[0m \u001b[1;32mNone\u001b[0m\u001b[1;33m:\u001b[0m\u001b[1;33m\u001b[0m\u001b[1;33m\u001b[0m\u001b[0m\n\u001b[1;32m---> 96\u001b[1;33m         \u001b[0mself\u001b[0m\u001b[1;33m.\u001b[0m\u001b[0mtraining_type_plugin\u001b[0m\u001b[1;33m.\u001b[0m\u001b[0mstart_training\u001b[0m\u001b[1;33m(\u001b[0m\u001b[0mtrainer\u001b[0m\u001b[1;33m)\u001b[0m\u001b[1;33m\u001b[0m\u001b[1;33m\u001b[0m\u001b[0m\n\u001b[0m\u001b[0;32m     97\u001b[0m \u001b[1;33m\u001b[0m\u001b[0m\n\u001b[0;32m     98\u001b[0m     \u001b[1;32mdef\u001b[0m \u001b[0mstart_evaluating\u001b[0m\u001b[1;33m(\u001b[0m\u001b[0mself\u001b[0m\u001b[1;33m,\u001b[0m \u001b[0mtrainer\u001b[0m\u001b[1;33m:\u001b[0m \u001b[1;34m'pl.Trainer'\u001b[0m\u001b[1;33m)\u001b[0m \u001b[1;33m->\u001b[0m \u001b[1;32mNone\u001b[0m\u001b[1;33m:\u001b[0m\u001b[1;33m\u001b[0m\u001b[1;33m\u001b[0m\u001b[0m\n",
      "\u001b[1;32mF:\\anacondapython\\envs\\tf\\lib\\site-packages\\pytorch_lightning\\plugins\\training_type\\training_type_plugin.py\u001b[0m in \u001b[0;36mstart_training\u001b[1;34m(self, trainer)\u001b[0m\n\u001b[0;32m    142\u001b[0m     \u001b[1;32mdef\u001b[0m \u001b[0mstart_training\u001b[0m\u001b[1;33m(\u001b[0m\u001b[0mself\u001b[0m\u001b[1;33m,\u001b[0m \u001b[0mtrainer\u001b[0m\u001b[1;33m:\u001b[0m \u001b[1;34m'pl.Trainer'\u001b[0m\u001b[1;33m)\u001b[0m \u001b[1;33m->\u001b[0m \u001b[1;32mNone\u001b[0m\u001b[1;33m:\u001b[0m\u001b[1;33m\u001b[0m\u001b[1;33m\u001b[0m\u001b[0m\n\u001b[0;32m    143\u001b[0m         \u001b[1;31m# double dispatch to initiate the training loop\u001b[0m\u001b[1;33m\u001b[0m\u001b[1;33m\u001b[0m\u001b[1;33m\u001b[0m\u001b[0m\n\u001b[1;32m--> 144\u001b[1;33m         \u001b[0mself\u001b[0m\u001b[1;33m.\u001b[0m\u001b[0m_results\u001b[0m \u001b[1;33m=\u001b[0m \u001b[0mtrainer\u001b[0m\u001b[1;33m.\u001b[0m\u001b[0mrun_stage\u001b[0m\u001b[1;33m(\u001b[0m\u001b[1;33m)\u001b[0m\u001b[1;33m\u001b[0m\u001b[1;33m\u001b[0m\u001b[0m\n\u001b[0m\u001b[0;32m    145\u001b[0m \u001b[1;33m\u001b[0m\u001b[0m\n\u001b[0;32m    146\u001b[0m     \u001b[1;32mdef\u001b[0m \u001b[0mstart_evaluating\u001b[0m\u001b[1;33m(\u001b[0m\u001b[0mself\u001b[0m\u001b[1;33m,\u001b[0m \u001b[0mtrainer\u001b[0m\u001b[1;33m:\u001b[0m \u001b[1;34m'pl.Trainer'\u001b[0m\u001b[1;33m)\u001b[0m \u001b[1;33m->\u001b[0m \u001b[1;32mNone\u001b[0m\u001b[1;33m:\u001b[0m\u001b[1;33m\u001b[0m\u001b[1;33m\u001b[0m\u001b[0m\n",
      "\u001b[1;32mF:\\anacondapython\\envs\\tf\\lib\\site-packages\\pytorch_lightning\\trainer\\trainer.py\u001b[0m in \u001b[0;36mrun_stage\u001b[1;34m(self)\u001b[0m\n\u001b[0;32m    805\u001b[0m         \u001b[1;32mif\u001b[0m \u001b[0mself\u001b[0m\u001b[1;33m.\u001b[0m\u001b[0mpredicting\u001b[0m\u001b[1;33m:\u001b[0m\u001b[1;33m\u001b[0m\u001b[1;33m\u001b[0m\u001b[0m\n\u001b[0;32m    806\u001b[0m             \u001b[1;32mreturn\u001b[0m \u001b[0mself\u001b[0m\u001b[1;33m.\u001b[0m\u001b[0mrun_predict\u001b[0m\u001b[1;33m(\u001b[0m\u001b[1;33m)\u001b[0m\u001b[1;33m\u001b[0m\u001b[1;33m\u001b[0m\u001b[0m\n\u001b[1;32m--> 807\u001b[1;33m         \u001b[1;32mreturn\u001b[0m \u001b[0mself\u001b[0m\u001b[1;33m.\u001b[0m\u001b[0mrun_train\u001b[0m\u001b[1;33m(\u001b[0m\u001b[1;33m)\u001b[0m\u001b[1;33m\u001b[0m\u001b[1;33m\u001b[0m\u001b[0m\n\u001b[0m\u001b[0;32m    808\u001b[0m \u001b[1;33m\u001b[0m\u001b[0m\n\u001b[0;32m    809\u001b[0m     \u001b[1;32mdef\u001b[0m \u001b[0m_pre_training_routine\u001b[0m\u001b[1;33m(\u001b[0m\u001b[0mself\u001b[0m\u001b[1;33m)\u001b[0m\u001b[1;33m:\u001b[0m\u001b[1;33m\u001b[0m\u001b[1;33m\u001b[0m\u001b[0m\n",
      "\u001b[1;32mF:\\anacondapython\\envs\\tf\\lib\\site-packages\\pytorch_lightning\\trainer\\trainer.py\u001b[0m in \u001b[0;36mrun_train\u001b[1;34m(self)\u001b[0m\n\u001b[0;32m    867\u001b[0m                 \u001b[1;32mwith\u001b[0m \u001b[0mself\u001b[0m\u001b[1;33m.\u001b[0m\u001b[0mprofiler\u001b[0m\u001b[1;33m.\u001b[0m\u001b[0mprofile\u001b[0m\u001b[1;33m(\u001b[0m\u001b[1;34m\"run_training_epoch\"\u001b[0m\u001b[1;33m)\u001b[0m\u001b[1;33m:\u001b[0m\u001b[1;33m\u001b[0m\u001b[1;33m\u001b[0m\u001b[0m\n\u001b[0;32m    868\u001b[0m                     \u001b[1;31m# run train epoch\u001b[0m\u001b[1;33m\u001b[0m\u001b[1;33m\u001b[0m\u001b[1;33m\u001b[0m\u001b[0m\n\u001b[1;32m--> 869\u001b[1;33m                     \u001b[0mself\u001b[0m\u001b[1;33m.\u001b[0m\u001b[0mtrain_loop\u001b[0m\u001b[1;33m.\u001b[0m\u001b[0mrun_training_epoch\u001b[0m\u001b[1;33m(\u001b[0m\u001b[1;33m)\u001b[0m\u001b[1;33m\u001b[0m\u001b[1;33m\u001b[0m\u001b[0m\n\u001b[0m\u001b[0;32m    870\u001b[0m \u001b[1;33m\u001b[0m\u001b[0m\n\u001b[0;32m    871\u001b[0m                 \u001b[1;32mif\u001b[0m \u001b[0mself\u001b[0m\u001b[1;33m.\u001b[0m\u001b[0mmax_steps\u001b[0m \u001b[1;32mand\u001b[0m \u001b[0mself\u001b[0m\u001b[1;33m.\u001b[0m\u001b[0mmax_steps\u001b[0m \u001b[1;33m<=\u001b[0m \u001b[0mself\u001b[0m\u001b[1;33m.\u001b[0m\u001b[0mglobal_step\u001b[0m\u001b[1;33m:\u001b[0m\u001b[1;33m\u001b[0m\u001b[1;33m\u001b[0m\u001b[0m\n",
      "\u001b[1;32mF:\\anacondapython\\envs\\tf\\lib\\site-packages\\pytorch_lightning\\trainer\\training_loop.py\u001b[0m in \u001b[0;36mrun_training_epoch\u001b[1;34m(self)\u001b[0m\n\u001b[0;32m    568\u001b[0m \u001b[1;33m\u001b[0m\u001b[0m\n\u001b[0;32m    569\u001b[0m         \u001b[1;32mif\u001b[0m \u001b[0mshould_train_only\u001b[0m\u001b[1;33m:\u001b[0m\u001b[1;33m\u001b[0m\u001b[1;33m\u001b[0m\u001b[0m\n\u001b[1;32m--> 570\u001b[1;33m             \u001b[0mself\u001b[0m\u001b[1;33m.\u001b[0m\u001b[0mcheck_checkpoint_callback\u001b[0m\u001b[1;33m(\u001b[0m\u001b[1;32mTrue\u001b[0m\u001b[1;33m)\u001b[0m\u001b[1;33m\u001b[0m\u001b[1;33m\u001b[0m\u001b[0m\n\u001b[0m\u001b[0;32m    571\u001b[0m \u001b[1;33m\u001b[0m\u001b[0m\n\u001b[0;32m    572\u001b[0m         \u001b[1;32mif\u001b[0m \u001b[0mshould_check_val\u001b[0m\u001b[1;33m:\u001b[0m\u001b[1;33m\u001b[0m\u001b[1;33m\u001b[0m\u001b[0m\n",
      "\u001b[1;32mF:\\anacondapython\\envs\\tf\\lib\\site-packages\\pytorch_lightning\\trainer\\training_loop.py\u001b[0m in \u001b[0;36mcheck_checkpoint_callback\u001b[1;34m(self, should_update, is_last)\u001b[0m\n\u001b[0;32m    141\u001b[0m \u001b[1;33m\u001b[0m\u001b[0m\n\u001b[0;32m    142\u001b[0m             \u001b[1;32mfor\u001b[0m \u001b[0mcb\u001b[0m \u001b[1;32min\u001b[0m \u001b[0mcallbacks\u001b[0m\u001b[1;33m:\u001b[0m\u001b[1;33m\u001b[0m\u001b[1;33m\u001b[0m\u001b[0m\n\u001b[1;32m--> 143\u001b[1;33m                 \u001b[0mcb\u001b[0m\u001b[1;33m.\u001b[0m\u001b[0mon_validation_end\u001b[0m\u001b[1;33m(\u001b[0m\u001b[0mself\u001b[0m\u001b[1;33m.\u001b[0m\u001b[0mtrainer\u001b[0m\u001b[1;33m,\u001b[0m \u001b[0mmodel\u001b[0m\u001b[1;33m)\u001b[0m\u001b[1;33m\u001b[0m\u001b[1;33m\u001b[0m\u001b[0m\n\u001b[0m\u001b[0;32m    144\u001b[0m \u001b[1;33m\u001b[0m\u001b[0m\n\u001b[0;32m    145\u001b[0m     \u001b[1;32mdef\u001b[0m \u001b[0mon_train_epoch_start\u001b[0m\u001b[1;33m(\u001b[0m\u001b[0mself\u001b[0m\u001b[1;33m,\u001b[0m \u001b[0mepoch\u001b[0m\u001b[1;33m)\u001b[0m\u001b[1;33m:\u001b[0m\u001b[1;33m\u001b[0m\u001b[1;33m\u001b[0m\u001b[0m\n",
      "\u001b[1;32mF:\\anacondapython\\envs\\tf\\lib\\site-packages\\pytorch_lightning\\callbacks\\model_checkpoint.py\u001b[0m in \u001b[0;36mon_validation_end\u001b[1;34m(self, trainer, pl_module)\u001b[0m\n\u001b[0;32m    247\u001b[0m         \u001b[1;32mif\u001b[0m \u001b[0mskip\u001b[0m\u001b[1;33m:\u001b[0m\u001b[1;33m\u001b[0m\u001b[1;33m\u001b[0m\u001b[0m\n\u001b[0;32m    248\u001b[0m             \u001b[1;32mreturn\u001b[0m\u001b[1;33m\u001b[0m\u001b[1;33m\u001b[0m\u001b[0m\n\u001b[1;32m--> 249\u001b[1;33m         \u001b[0mself\u001b[0m\u001b[1;33m.\u001b[0m\u001b[0msave_checkpoint\u001b[0m\u001b[1;33m(\u001b[0m\u001b[0mtrainer\u001b[0m\u001b[1;33m)\u001b[0m\u001b[1;33m\u001b[0m\u001b[1;33m\u001b[0m\u001b[0m\n\u001b[0m\u001b[0;32m    250\u001b[0m \u001b[1;33m\u001b[0m\u001b[0m\n\u001b[0;32m    251\u001b[0m     def on_save_checkpoint(\n",
      "\u001b[1;32mF:\\anacondapython\\envs\\tf\\lib\\site-packages\\pytorch_lightning\\callbacks\\model_checkpoint.py\u001b[0m in \u001b[0;36msave_checkpoint\u001b[1;34m(self, trainer, unused)\u001b[0m\n\u001b[0;32m    285\u001b[0m \u001b[1;33m\u001b[0m\u001b[0m\n\u001b[0;32m    286\u001b[0m         \u001b[0mself\u001b[0m\u001b[1;33m.\u001b[0m\u001b[0m_add_backward_monitor_support\u001b[0m\u001b[1;33m(\u001b[0m\u001b[0mtrainer\u001b[0m\u001b[1;33m)\u001b[0m\u001b[1;33m\u001b[0m\u001b[1;33m\u001b[0m\u001b[0m\n\u001b[1;32m--> 287\u001b[1;33m         \u001b[0mself\u001b[0m\u001b[1;33m.\u001b[0m\u001b[0m_validate_monitor_key\u001b[0m\u001b[1;33m(\u001b[0m\u001b[0mtrainer\u001b[0m\u001b[1;33m)\u001b[0m\u001b[1;33m\u001b[0m\u001b[1;33m\u001b[0m\u001b[0m\n\u001b[0m\u001b[0;32m    288\u001b[0m \u001b[1;33m\u001b[0m\u001b[0m\n\u001b[0;32m    289\u001b[0m         \u001b[1;31m# track epoch when ckpt was last checked\u001b[0m\u001b[1;33m\u001b[0m\u001b[1;33m\u001b[0m\u001b[1;33m\u001b[0m\u001b[0m\n",
      "\u001b[1;32mF:\\anacondapython\\envs\\tf\\lib\\site-packages\\pytorch_lightning\\callbacks\\model_checkpoint.py\u001b[0m in \u001b[0;36m_validate_monitor_key\u001b[1;34m(self, trainer)\u001b[0m\n\u001b[0;32m    624\u001b[0m                 \u001b[1;34mf\"HINT: Did you call self.log('{self.monitor}', value) in the LightningModule?\"\u001b[0m\u001b[1;33m\u001b[0m\u001b[1;33m\u001b[0m\u001b[0m\n\u001b[0;32m    625\u001b[0m             )\n\u001b[1;32m--> 626\u001b[1;33m             \u001b[1;32mraise\u001b[0m \u001b[0mMisconfigurationException\u001b[0m\u001b[1;33m(\u001b[0m\u001b[0mm\u001b[0m\u001b[1;33m)\u001b[0m\u001b[1;33m\u001b[0m\u001b[1;33m\u001b[0m\u001b[0m\n\u001b[0m\u001b[0;32m    627\u001b[0m \u001b[1;33m\u001b[0m\u001b[0m\n\u001b[0;32m    628\u001b[0m     def _get_metric_interpolated_filepath_name(\n",
      "\u001b[1;31mMisconfigurationException\u001b[0m: ModelCheckpoint(monitor='val_loss') not found in the returned metrics: ['train_loss']. HINT: Did you call self.log('val_loss', value) in the LightningModule?"
     ]
    }
   ],
   "source": [
    "trainer.fit(model,data_module)"
   ]
  },
  {
   "cell_type": "code",
   "execution_count": null,
   "metadata": {},
   "outputs": [],
   "source": []
  }
 ]
}