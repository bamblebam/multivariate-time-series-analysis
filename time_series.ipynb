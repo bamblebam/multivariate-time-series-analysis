{
 "metadata": {
  "language_info": {
   "codemirror_mode": {
    "name": "ipython",
    "version": 3
   },
   "file_extension": ".py",
   "mimetype": "text/x-python",
   "name": "python",
   "nbconvert_exporter": "python",
   "pygments_lexer": "ipython3",
   "version": "3.8.8"
  },
  "orig_nbformat": 4,
  "kernelspec": {
   "name": "python3",
   "display_name": "Python 3.8.8 64-bit ('tf': conda)"
  },
  "interpreter": {
   "hash": "8f7a9caefe3fbe01c4aa0205e6cc1c36763ed3d41b234746df90d0099aaa4109"
  }
 },
 "nbformat": 4,
 "nbformat_minor": 2,
 "cells": [
  {
   "cell_type": "code",
   "execution_count": 1,
   "metadata": {},
   "outputs": [
    {
     "output_type": "display_data",
     "data": {
      "text/plain": "<Figure size 720x80 with 1 Axes>",
      "image/svg+xml": "<?xml version=\"1.0\" encoding=\"utf-8\" standalone=\"no\"?>\r\n<!DOCTYPE svg PUBLIC \"-//W3C//DTD SVG 1.1//EN\"\r\n  \"http://www.w3.org/Graphics/SVG/1.1/DTD/svg11.dtd\">\r\n<svg height=\"72.26pt\" version=\"1.1\" viewBox=\"0 0 520.1 72.26\" width=\"520.1pt\" xmlns=\"http://www.w3.org/2000/svg\" xmlns:xlink=\"http://www.w3.org/1999/xlink\">\r\n <metadata>\r\n  <rdf:RDF xmlns:cc=\"http://creativecommons.org/ns#\" xmlns:dc=\"http://purl.org/dc/elements/1.1/\" xmlns:rdf=\"http://www.w3.org/1999/02/22-rdf-syntax-ns#\">\r\n   <cc:Work>\r\n    <dc:type rdf:resource=\"http://purl.org/dc/dcmitype/StillImage\"/>\r\n    <dc:date>2021-06-16T00:01:15.249882</dc:date>\r\n    <dc:format>image/svg+xml</dc:format>\r\n    <dc:creator>\r\n     <cc:Agent>\r\n      <dc:title>Matplotlib v3.4.2, https://matplotlib.org/</dc:title>\r\n     </cc:Agent>\r\n    </dc:creator>\r\n   </cc:Work>\r\n  </rdf:RDF>\r\n </metadata>\r\n <defs>\r\n  <style type=\"text/css\">*{stroke-linecap:butt;stroke-linejoin:round;}</style>\r\n </defs>\r\n <g id=\"figure_1\">\r\n  <g id=\"patch_1\">\r\n   <path d=\"M 0 72.26 \r\nL 520.1 72.26 \r\nL 520.1 0 \r\nL 0 0 \r\nz\r\n\" style=\"fill:#2c2c2e;\"/>\r\n  </g>\r\n  <g id=\"axes_1\">\r\n   <g id=\"patch_2\">\r\n    <path d=\"M 10.7 61.56 \r\nL 512.9 61.56 \r\nL 512.9 7.2 \r\nL 10.7 7.2 \r\nz\r\n\" style=\"fill:#2c2c2e;\"/>\r\n   </g>\r\n   <g clip-path=\"url(#p17c13cadc2)\">\r\n    <image height=\"54.9\" id=\"image322f0c4247\" transform=\"scale(1 -1)translate(0 -54.9)\" width=\"503.1\" x=\"10.7\" xlink:href=\"data:image/png;base64,\r\niVBORw0KGgoAAAANSUhEUgAAAi8AAAA9CAYAAABlVYn9AAABcklEQVR4nO3WoVUCABiFUeCQMJOcAgdhCzew2N2CIGxBZAMHoDEDZpzB9J/vcO8Er71vufl6PBZP6Pf1ZXrCiN3bfnrCiJ+P2/SEEZfteXrCmO/VfXrCiNP1c3rCiPfDcXrCiMP6Ob9sNT0AAOA/xAsAkCJeAIAU8QIApIgXACBFvAAAKeIFAEgRLwBAingBAFLECwCQIl4AgBTxAgCkiBcAIEW8AAAp4gUASBEvAECKeAEAUsQLAJAiXgCAFPECAKSIFwAgRbwAACniBQBIES8AQIp4AQBSxAsAkCJeAIAU8QIApIgXACBFvAAAKeIFAEgRLwBAingBAFLECwCQIl4AgBTxAgCkiBcAIEW8AAAp4gUASBEvAECKeAEAUsQLAJAiXgCAFPECAKSIFwAgRbwAACniBQBIES8AQIp4AQBSxAsAkCJeAIAU8QIApIgXACBFvAAAKeIFAEgRLwBAingBAFLECwCQIl4AgBTxAgCk/AFwbw5YLg9/iwAAAABJRU5ErkJggg==\" y=\"-6.66\"/>\r\n   </g>\r\n   <g id=\"matplotlib.axis_1\">\r\n    <g id=\"xtick_1\">\r\n     <g id=\"line2d_1\">\r\n      <defs>\r\n       <path d=\"M 0 0 \r\nL 0 3.5 \r\n\" id=\"m650a15151c\" style=\"stroke:#e5e5ea;stroke-width:0.8;\"/>\r\n      </defs>\r\n      <g>\r\n       <use style=\"fill:#e5e5ea;stroke:#e5e5ea;stroke-width:0.8;\" x=\"10.7\" xlink:href=\"#m650a15151c\" y=\"61.56\"/>\r\n      </g>\r\n     </g>\r\n    </g>\r\n    <g id=\"xtick_2\">\r\n     <g id=\"line2d_2\">\r\n      <g>\r\n       <use style=\"fill:#e5e5ea;stroke:#e5e5ea;stroke-width:0.8;\" x=\"66.5\" xlink:href=\"#m650a15151c\" y=\"61.56\"/>\r\n      </g>\r\n     </g>\r\n    </g>\r\n    <g id=\"xtick_3\">\r\n     <g id=\"line2d_3\">\r\n      <g>\r\n       <use style=\"fill:#e5e5ea;stroke:#e5e5ea;stroke-width:0.8;\" x=\"122.3\" xlink:href=\"#m650a15151c\" y=\"61.56\"/>\r\n      </g>\r\n     </g>\r\n    </g>\r\n    <g id=\"xtick_4\">\r\n     <g id=\"line2d_4\">\r\n      <g>\r\n       <use style=\"fill:#e5e5ea;stroke:#e5e5ea;stroke-width:0.8;\" x=\"178.1\" xlink:href=\"#m650a15151c\" y=\"61.56\"/>\r\n      </g>\r\n     </g>\r\n    </g>\r\n    <g id=\"xtick_5\">\r\n     <g id=\"line2d_5\">\r\n      <g>\r\n       <use style=\"fill:#e5e5ea;stroke:#e5e5ea;stroke-width:0.8;\" x=\"233.9\" xlink:href=\"#m650a15151c\" y=\"61.56\"/>\r\n      </g>\r\n     </g>\r\n    </g>\r\n    <g id=\"xtick_6\">\r\n     <g id=\"line2d_6\">\r\n      <g>\r\n       <use style=\"fill:#e5e5ea;stroke:#e5e5ea;stroke-width:0.8;\" x=\"289.7\" xlink:href=\"#m650a15151c\" y=\"61.56\"/>\r\n      </g>\r\n     </g>\r\n    </g>\r\n    <g id=\"xtick_7\">\r\n     <g id=\"line2d_7\">\r\n      <g>\r\n       <use style=\"fill:#e5e5ea;stroke:#e5e5ea;stroke-width:0.8;\" x=\"345.5\" xlink:href=\"#m650a15151c\" y=\"61.56\"/>\r\n      </g>\r\n     </g>\r\n    </g>\r\n    <g id=\"xtick_8\">\r\n     <g id=\"line2d_8\">\r\n      <g>\r\n       <use style=\"fill:#e5e5ea;stroke:#e5e5ea;stroke-width:0.8;\" x=\"401.3\" xlink:href=\"#m650a15151c\" y=\"61.56\"/>\r\n      </g>\r\n     </g>\r\n    </g>\r\n    <g id=\"xtick_9\">\r\n     <g id=\"line2d_9\">\r\n      <g>\r\n       <use style=\"fill:#e5e5ea;stroke:#e5e5ea;stroke-width:0.8;\" x=\"457.1\" xlink:href=\"#m650a15151c\" y=\"61.56\"/>\r\n      </g>\r\n     </g>\r\n    </g>\r\n   </g>\r\n   <g id=\"matplotlib.axis_2\"/>\r\n   <g id=\"patch_3\">\r\n    <path d=\"M 10.7 61.56 \r\nL 10.7 7.2 \r\n\" style=\"fill:none;stroke:#2c2c2e;stroke-linecap:square;stroke-linejoin:miter;stroke-width:0.8;\"/>\r\n   </g>\r\n   <g id=\"patch_4\">\r\n    <path d=\"M 10.7 61.56 \r\nL 512.9 61.56 \r\n\" style=\"fill:none;stroke:#2c2c2e;stroke-linecap:square;stroke-linejoin:miter;stroke-width:0.8;\"/>\r\n   </g>\r\n  </g>\r\n </g>\r\n <defs>\r\n  <clipPath id=\"p17c13cadc2\">\r\n   <rect height=\"54.36\" width=\"502.2\" x=\"10.7\" y=\"7.2\"/>\r\n  </clipPath>\r\n </defs>\r\n</svg>\r\n",
      "image/png": "[encoded data removed]"
     },
     "metadata": {}
    }
   ],
   "source": [
    "import time\n",
    "import logging\n",
    "import os\n",
    "import glob\n",
    "import json\n",
    "import re\n",
    "import random\n",
    "import textwrap\n",
    "from termcolor import colored\n",
    "from pathlib import Path\n",
    "import joblib\n",
    "import pickle\n",
    "\n",
    "import pandas as pd\n",
    "import numpy as np\n",
    "import matplotlib as mpl\n",
    "import matplotlib.pyplot as plt\n",
    "import seaborn as sns\n",
    "from cycler import cycler\n",
    "import plotly.graph_objects as go\n",
    "import plotly.express as px\n",
    "\n",
    "from sklearn.model_selection import train_test_split\n",
    "\n",
    "import tensorflow as tf\n",
    "\n",
    "import torch\n",
    "from torch.utils.data import Dataset,DataLoader\n",
    "import pytorch_lightning as pl\n",
    "\n",
    "%matplotlib inline\n",
    "\n",
    "raw_dark_palette = [\n",
    "    (10, 132, 255), # Blue\n",
    "    (255, 159, 10), # Orange\n",
    "    (48, 209, 88),  # Green\n",
    "    (255, 69, 58),  # Red\n",
    "    (191, 90, 242), # Purple\n",
    "    (94, 92, 230),  # Indigo\n",
    "    (255, 55, 95),  # Pink\n",
    "    (100, 210, 255),# Teal\n",
    "    (255, 214, 10)  # Yellow\n",
    "]\n",
    "raw_darks=[\n",
    "    (44, 44, 46)\n",
    "]\n",
    "raw_lights=[\n",
    "    (229, 229, 234)\n",
    "]\n",
    "miscellaneous={\n",
    "    'blue':'#0f71d4',\n",
    "    'green':'#14b827',\n",
    "    'red':'#cf0c0c'\n",
    "}\n",
    "\n",
    "dark_palette=np.array(raw_dark_palette)/255\n",
    "darks=np.array(raw_darks)/255\n",
    "lights=np.array(raw_lights)/255\n",
    "\n",
    "#rcparams\n",
    "dark_color=darks[-1]\n",
    "light_color=lights[-1]\n",
    "\n",
    "mpl.rcParams['axes.prop_cycle']=cycler('color',dark_palette)\n",
    "mpl.rcParams['figure.facecolor']=dark_color\n",
    "mpl.rcParams['figure.edgecolor']=dark_color\n",
    "mpl.rcParams['axes.facecolor']=dark_color\n",
    "mpl.rcParams['text.color']=light_color\n",
    "mpl.rcParams['axes.labelcolor']=light_color\n",
    "mpl.rcParams['axes.edgecolor']=dark_color\n",
    "mpl.rcParams['xtick.color']=light_color\n",
    "mpl.rcParams['ytick.color']=light_color\n",
    "mpl.rcParams['figure.dpi']=80\n",
    "mpl.rcParams['axes.spines.top'] = False\n",
    "mpl.rcParams['axes.spines.right'] = False\n",
    "\n",
    "sns.palplot(dark_palette)"
   ]
  },
  {
   "cell_type": "code",
   "execution_count": 15,
   "metadata": {},
   "outputs": [
    {
     "output_type": "execute_result",
     "data": {
      "text/plain": [
       "            unix                date    symbol     open     high      low  \\\n",
       "0  1567965420000 2019-09-08 17:57:00  BTC/USDT  10000.0  10000.0  10000.0   \n",
       "1  1567965480000 2019-09-08 17:58:00  BTC/USDT  10000.0  10000.0  10000.0   \n",
       "2  1567965540000 2019-09-08 17:59:00  BTC/USDT  10000.0  10000.0  10000.0   \n",
       "3  1567965600000 2019-09-08 18:00:00  BTC/USDT  10000.0  10000.0  10000.0   \n",
       "4  1567965660000 2019-09-08 18:01:00  BTC/USDT  10000.0  10000.0  10000.0   \n",
       "\n",
       "     close  Volume BTC  Volume USDT  tradecount  \n",
       "0  10000.0       0.001         10.0           1  \n",
       "1  10000.0       0.000          0.0           0  \n",
       "2  10000.0       0.001         10.0           1  \n",
       "3  10000.0       0.000          0.0           0  \n",
       "4  10000.0       0.000          0.0           0  "
      ],
      "text/html": "<div>\n<style scoped>\n    .dataframe tbody tr th:only-of-type {\n        vertical-align: middle;\n    }\n\n    .dataframe tbody tr th {\n        vertical-align: top;\n    }\n\n    .dataframe thead th {\n        text-align: right;\n    }\n</style>\n<table border=\"1\" class=\"dataframe\">\n  <thead>\n    <tr style=\"text-align: right;\">\n      <th></th>\n      <th>unix</th>\n      <th>date</th>\n      <th>symbol</th>\n      <th>open</th>\n      <th>high</th>\n      <th>low</th>\n      <th>close</th>\n      <th>Volume BTC</th>\n      <th>Volume USDT</th>\n      <th>tradecount</th>\n    </tr>\n  </thead>\n  <tbody>\n    <tr>\n      <th>0</th>\n      <td>1567965420000</td>\n      <td>2019-09-08 17:57:00</td>\n      <td>BTC/USDT</td>\n      <td>10000.0</td>\n      <td>10000.0</td>\n      <td>10000.0</td>\n      <td>10000.0</td>\n      <td>0.001</td>\n      <td>10.0</td>\n      <td>1</td>\n    </tr>\n    <tr>\n      <th>1</th>\n      <td>1567965480000</td>\n      <td>2019-09-08 17:58:00</td>\n      <td>BTC/USDT</td>\n      <td>10000.0</td>\n      <td>10000.0</td>\n      <td>10000.0</td>\n      <td>10000.0</td>\n      <td>0.000</td>\n      <td>0.0</td>\n      <td>0</td>\n    </tr>\n    <tr>\n      <th>2</th>\n      <td>1567965540000</td>\n      <td>2019-09-08 17:59:00</td>\n      <td>BTC/USDT</td>\n      <td>10000.0</td>\n      <td>10000.0</td>\n      <td>10000.0</td>\n      <td>10000.0</td>\n      <td>0.001</td>\n      <td>10.0</td>\n      <td>1</td>\n    </tr>\n    <tr>\n      <th>3</th>\n      <td>1567965600000</td>\n      <td>2019-09-08 18:00:00</td>\n      <td>BTC/USDT</td>\n      <td>10000.0</td>\n      <td>10000.0</td>\n      <td>10000.0</td>\n      <td>10000.0</td>\n      <td>0.000</td>\n      <td>0.0</td>\n      <td>0</td>\n    </tr>\n    <tr>\n      <th>4</th>\n      <td>1567965660000</td>\n      <td>2019-09-08 18:01:00</td>\n      <td>BTC/USDT</td>\n      <td>10000.0</td>\n      <td>10000.0</td>\n      <td>10000.0</td>\n      <td>10000.0</td>\n      <td>0.000</td>\n      <td>0.0</td>\n      <td>0</td>\n    </tr>\n  </tbody>\n</table>\n</div>"
     },
     "metadata": {},
     "execution_count": 15
    }
   ],
   "source": [
    "data_dir='data/Binance_BTCUSDT_minute.csv'\n",
    "df=pd.read_csv(data_dir,parse_dates=['date'],header=1)\n",
    "df=df.sort_values(by='date').reset_index(drop=True)\n",
    "df.head()"
   ]
  },
  {
   "cell_type": "code",
   "execution_count": null,
   "metadata": {},
   "outputs": [],
   "source": []
  }
 ]
}